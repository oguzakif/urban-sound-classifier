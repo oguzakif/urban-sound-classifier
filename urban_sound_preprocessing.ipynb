{
 "cells": [
  {
   "cell_type": "markdown",
   "metadata": {},
   "source": [
    "**Import necessary libraries**"
   ]
  },
  {
   "cell_type": "code",
   "execution_count": null,
   "metadata": {},
   "outputs": [],
   "source": [
    "import cv2 as cv\n",
    "import os"
   ]
  },
  {
   "cell_type": "markdown",
   "metadata": {},
   "source": [
    "**Define imort,export directories and constants**"
   ]
  },
  {
   "cell_type": "code",
   "execution_count": null,
   "metadata": {},
   "outputs": [],
   "source": [
    "path_of_the_directory = './spectrograms'\n",
    "path_of_the_export_directory = './spectrograms_preprocessed'\n",
    "if(not os.path.exists(path_of_the_export_directory)):\n",
    "    os.mkdir(path_of_the_export_directory)\n",
    "spectogram_category_count = 10\n",
    "ext = ('.png')"
   ]
  },
  {
   "cell_type": "markdown",
   "metadata": {},
   "source": [
    "**Define preprocess function**"
   ]
  },
  {
   "cell_type": "code",
   "execution_count": null,
   "metadata": {},
   "outputs": [],
   "source": [
    "def image_filter(img_path):\n",
    "    img = cv.imread(img_path)\n",
    "    normalized = cv.normalize(img, None, alpha=0, beta=255, norm_type=cv.NORM_MINMAX, dtype=cv.CV_8U)\n",
    "    gray_scaled = cv.cvtColor(normalized, cv.COLOR_BGR2GRAY)\n",
    "    resized = cv.resize(gray_scaled,None,fx=0.25, fy=0.25)\n",
    "    \n",
    "    return resized"
   ]
  },
  {
   "cell_type": "markdown",
   "metadata": {},
   "source": [
    "**Iterate over whole 'spectrograms' directory and filter each image**"
   ]
  },
  {
   "cell_type": "code",
   "execution_count": null,
   "metadata": {},
   "outputs": [],
   "source": [
    "for i in range(spectogram_category_count) :\n",
    "    object = os.scandir(path_of_the_directory+'/'+str(i))\n",
    "    os.makedirs(path_of_the_export_directory+'/'+str(i), exist_ok=True)\n",
    "    for n in object:\n",
    "        if n.is_dir() or n.is_file():\n",
    "            filtered_img = image_filter(path_of_the_directory+'/'+str(i)+'/'+n.name)\n",
    "            cv.imwrite(path_of_the_export_directory+'/'+str(i)+'/'+n.name, filtered_img)\n",
    "    object.close()"
   ]
  }
 ],
 "metadata": {
  "kernelspec": {
   "display_name": "Python 3.10.4 64-bit",
   "language": "python",
   "name": "python3"
  },
  "language_info": {
   "codemirror_mode": {
    "name": "ipython",
    "version": 3
   },
   "file_extension": ".py",
   "mimetype": "text/x-python",
   "name": "python",
   "nbconvert_exporter": "python",
   "pygments_lexer": "ipython3",
   "version": "3.10.4"
  },
  "orig_nbformat": 4,
  "vscode": {
   "interpreter": {
    "hash": "1199c261b5e24789861580535954eb82c9d3b7f440249a3a44925e76d155f691"
   }
  }
 },
 "nbformat": 4,
 "nbformat_minor": 2
}
